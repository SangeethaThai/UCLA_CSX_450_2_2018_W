{
 "cells": [
  {
   "cell_type": "markdown",
   "metadata": {},
   "source": [
    "# Identifying and Removing Outliers"
   ]
  },
  {
   "cell_type": "markdown",
   "metadata": {},
   "source": [
    "To identify outliers in the data, we will use what is [the Tukey Method](http://datapigtechnologies.com/blog/index.php/highlighting-outliers-in-your-data-with-the-tukey-method/). \n",
    "\n",
    "This means that we will look for points that are more than 1.5 times the Inter-quartile range above the third quartile or below the first quartile."
   ]
  },
  {
   "cell_type": "code",
   "execution_count": 2,
   "metadata": {},
   "outputs": [],
   "source": [
    "import pandas as pd\n",
    "import numpy as np"
   ]
  },
  {
   "cell_type": "code",
   "execution_count": 3,
   "metadata": {},
   "outputs": [
    {
     "name": "stdout",
     "output_type": "stream",
     "text": [
      "/home/jovyan/UCLA_CSX_450_2_2018_W/09-wholesale_customers-3\n"
     ]
    }
   ],
   "source": [
    "cd .."
   ]
  },
  {
   "cell_type": "code",
   "execution_count": 4,
   "metadata": {},
   "outputs": [],
   "source": [
    "run src/load_data.py"
   ]
  },
  {
   "cell_type": "code",
   "execution_count": 5,
   "metadata": {},
   "outputs": [
    {
     "name": "stdout",
     "output_type": "stream",
     "text": [
      "Variable             Type         Data/Info\n",
      "-------------------------------------------\n",
      "customer_df          DataFrame         Fresh   Milk  Grocer<...>n\\n[440 rows x 6 columns]\n",
      "customer_final_df    DataFrame            Fresh      Milk  <...>n\\n[435 rows x 6 columns]\n",
      "customer_log_df      DataFrame             Fresh       Milk<...>n\\n[440 rows x 6 columns]\n",
      "customer_log_sc_df   DataFrame            Fresh      Milk  <...>n\\n[440 rows x 6 columns]\n",
      "customer_sc_df       DataFrame            Fresh      Milk  <...>n\\n[440 rows x 6 columns]\n"
     ]
    }
   ],
   "source": [
    "whos DataFrame"
   ]
  },
  {
   "cell_type": "markdown",
   "metadata": {},
   "source": [
    "#### Note that Tukey's method's param is 1.5. This param can be modified depending upon how aggressively you want to catc the outliers. If you want tp get more outliers, then reduce this param value, else increase the param value.\n"
   ]
  },
  {
   "cell_type": "code",
   "execution_count": 14,
   "metadata": {},
   "outputs": [],
   "source": [
    "def display_outliers(dataframe, col, param=1.5):\n",
    "    Q1 = np.percentile(dataframe[col], 25)\n",
    "    Q3 = np.percentile(dataframe[col], 75)\n",
    "    #print(Q1)\n",
    "    #print(Q3)\n",
    "    tukey_window = param*(Q3-Q1)\n",
    "    less_than_Q1 = dataframe[col] < Q1 - tukey_window\n",
    "    greater_than_Q3 = dataframe[col] > Q3 + tukey_window\n",
    "    tukey_mask = (less_than_Q1 | greater_than_Q3)\n",
    "    return dataframe[tukey_mask]"
   ]
  },
  {
   "cell_type": "code",
   "execution_count": 15,
   "metadata": {},
   "outputs": [
    {
     "name": "stdout",
     "output_type": "stream",
     "text": [
      "Fresh (16, 6)\n",
      "Milk (4, 6)\n",
      "Grocery (2, 6)\n",
      "Frozen (10, 6)\n",
      "Detergents_Paper (2, 6)\n",
      "Delicatessen (14, 6)\n"
     ]
    }
   ],
   "source": [
    "for col in customer_log_sc_df:\n",
    "    print(col, display_outliers(customer_log_sc_df, col).shape)"
   ]
  },
  {
   "cell_type": "markdown",
   "metadata": {},
   "source": [
    "What if we count the rows that show up as an outlier more than once?"
   ]
  },
  {
   "cell_type": "code",
   "execution_count": 20,
   "metadata": {},
   "outputs": [],
   "source": [
    "from collections import Counter"
   ]
  },
  {
   "cell_type": "code",
   "execution_count": 17,
   "metadata": {},
   "outputs": [],
   "source": [
    "raw_outliers = []\n",
    "for col in customer_log_sc_df:\n",
    "    outlier_df = display_outliers(customer_log_sc_df, col)\n",
    "    raw_outliers += list(outlier_df.index)"
   ]
  },
  {
   "cell_type": "code",
   "execution_count": 18,
   "metadata": {},
   "outputs": [
    {
     "data": {
      "text/plain": [
       "[65,\n",
       " 66,\n",
       " 81,\n",
       " 95,\n",
       " 96,\n",
       " 128,\n",
       " 171,\n",
       " 193,\n",
       " 218,\n",
       " 304,\n",
       " 305,\n",
       " 338,\n",
       " 353,\n",
       " 355,\n",
       " 357,\n",
       " 412,\n",
       " 86,\n",
       " 98,\n",
       " 154,\n",
       " 356,\n",
       " 75,\n",
       " 154,\n",
       " 38,\n",
       " 57,\n",
       " 65,\n",
       " 145,\n",
       " 175,\n",
       " 264,\n",
       " 325,\n",
       " 420,\n",
       " 429,\n",
       " 439,\n",
       " 75,\n",
       " 161,\n",
       " 66,\n",
       " 109,\n",
       " 128,\n",
       " 137,\n",
       " 142,\n",
       " 154,\n",
       " 183,\n",
       " 184,\n",
       " 187,\n",
       " 203,\n",
       " 233,\n",
       " 285,\n",
       " 289,\n",
       " 343]"
      ]
     },
     "execution_count": 18,
     "metadata": {},
     "output_type": "execute_result"
    }
   ],
   "source": [
    "raw_outliers"
   ]
  },
  {
   "cell_type": "markdown",
   "metadata": {},
   "source": [
    "#### A Counter is a container that keeps track of how many times equivalent values are added."
   ]
  },
  {
   "cell_type": "code",
   "execution_count": 23,
   "metadata": {},
   "outputs": [
    {
     "data": {
      "text/plain": [
       "dict_items([(65, 2), (66, 2), (81, 1), (95, 1), (96, 1), (128, 2), (171, 1), (193, 1), (218, 1), (304, 1), (305, 1), (338, 1), (353, 1), (355, 1), (357, 1), (412, 1), (86, 1), (98, 1), (154, 3), (356, 1), (75, 2), (38, 1), (57, 1), (145, 1), (175, 1), (264, 1), (325, 1), (420, 1), (429, 1), (439, 1), (161, 1), (109, 1), (137, 1), (142, 1), (183, 1), (184, 1), (187, 1), (203, 1), (233, 1), (285, 1), (289, 1), (343, 1)])"
      ]
     },
     "execution_count": 23,
     "metadata": {},
     "output_type": "execute_result"
    }
   ],
   "source": [
    "outlier_count = Counter(raw_outliers)\n",
    "outliers = [k for k,v in outlier_count.items() if v > 1]\n",
    "outlier_count.items()"
   ]
  },
  {
   "cell_type": "code",
   "execution_count": 10,
   "metadata": {},
   "outputs": [
    {
     "data": {
      "text/plain": [
       "5"
      ]
     },
     "execution_count": 10,
     "metadata": {},
     "output_type": "execute_result"
    }
   ],
   "source": [
    "len(outliers)"
   ]
  },
  {
   "cell_type": "code",
   "execution_count": 11,
   "metadata": {},
   "outputs": [
    {
     "data": {
      "text/plain": [
       "(440, 6)"
      ]
     },
     "execution_count": 11,
     "metadata": {},
     "output_type": "execute_result"
    }
   ],
   "source": [
    "customer_log_sc_df.shape"
   ]
  },
  {
   "cell_type": "code",
   "execution_count": 12,
   "metadata": {},
   "outputs": [
    {
     "data": {
      "text/plain": [
       "[65, 66, 128, 154, 75]"
      ]
     },
     "execution_count": 12,
     "metadata": {},
     "output_type": "execute_result"
    }
   ],
   "source": [
    "outliers"
   ]
  },
  {
   "cell_type": "code",
   "execution_count": null,
   "metadata": {},
   "outputs": [],
   "source": []
  },
  {
   "cell_type": "code",
   "execution_count": null,
   "metadata": {},
   "outputs": [],
   "source": []
  }
 ],
 "metadata": {
  "kernelspec": {
   "display_name": "Python 3",
   "language": "python",
   "name": "python3"
  },
  "language_info": {
   "codemirror_mode": {
    "name": "ipython",
    "version": 3
   },
   "file_extension": ".py",
   "mimetype": "text/x-python",
   "name": "python",
   "nbconvert_exporter": "python",
   "pygments_lexer": "ipython3",
   "version": "3.6.4"
  }
 },
 "nbformat": 4,
 "nbformat_minor": 2
}
